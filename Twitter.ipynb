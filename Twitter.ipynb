{
 "cells": [
  {
   "cell_type": "code",
   "execution_count": 1,
   "metadata": {},
   "outputs": [],
   "source": [
    "import pandas as pd\n",
    "from ntscraper import Nitter\n",
    "from pymongo import MongoClient"
   ]
  },
  {
   "cell_type": "code",
   "execution_count": null,
   "metadata": {},
   "outputs": [],
   "source": [
    "scraper = Nitter(log_level=1, skip_instance_check=False)"
   ]
  },
  {
   "cell_type": "markdown",
   "metadata": {},
   "source": [
    "**TWEETS**"
   ]
  },
  {
   "cell_type": "code",
   "execution_count": null,
   "metadata": {},
   "outputs": [],
   "source": [
    "name_of_user = \"realDonaldTrump\"\n",
    "\n",
    "while(True):\n",
    "    script = scraper.get_tweets(name_of_user, mode=\"user\", number = 20)\n",
    "    if len(script['tweets']) > 2:\n",
    "        break"
   ]
  },
  {
   "cell_type": "code",
   "execution_count": 4,
   "metadata": {},
   "outputs": [],
   "source": [
    "data = {\n",
    "    'link': [],\n",
    "    'text': [],\n",
    "    'user': [],\n",
    "    'likes': [],\n",
    "    'comments': []\n",
    "}\n",
    "\n",
    "for tweet in script['tweets']:\n",
    "    data['link'].append(tweet['link'])\n",
    "    data['text'].append(tweet['text'])\n",
    "    data['likes'].append(tweet['stats']['likes'])\n",
    "    data['user'].append(tweet['user']['name'])\n",
    "    data['comments'].append(tweet['stats']['comments'])"
   ]
  },
  {
   "cell_type": "code",
   "execution_count": null,
   "metadata": {},
   "outputs": [],
   "source": [
    "Tweets_df = pd.DataFrame(\n",
    "    data\n",
    ")\n",
    "\n",
    "Tweets_df"
   ]
  },
  {
   "cell_type": "code",
   "execution_count": null,
   "metadata": {},
   "outputs": [],
   "source": [
    "Tweets_df['comments'][2]"
   ]
  },
  {
   "cell_type": "markdown",
   "metadata": {},
   "source": [
    "**HASHTAGS**"
   ]
  },
  {
   "cell_type": "code",
   "execution_count": null,
   "metadata": {},
   "outputs": [],
   "source": [
    "hash_label = 'LFC'\n",
    "\n",
    "while(True):\n",
    "    script = scraper.get_tweets(hash_label, mode=\"hashtag\", number = 5)\n",
    "    if len(script['tweets']) > 2:\n",
    "        break"
   ]
  },
  {
   "cell_type": "code",
   "execution_count": 7,
   "metadata": {},
   "outputs": [],
   "source": [
    "data = {\n",
    "    'link': [],\n",
    "    'text': [],\n",
    "    'user': [],\n",
    "    'likes': [],\n",
    "    'comments': []\n",
    "}\n",
    "\n",
    "for tweet in script['tweets']:\n",
    "    data['link'].append(tweet['link'])\n",
    "    data['text'].append(tweet['text'])\n",
    "    data['likes'].append(tweet['stats']['likes'])\n",
    "    data['user'].append(tweet['user']['name'])\n",
    "    data['comments'].append(tweet['stats']['comments'])"
   ]
  },
  {
   "cell_type": "code",
   "execution_count": null,
   "metadata": {},
   "outputs": [],
   "source": [
    "Hashtag_df = pd.DataFrame(\n",
    "    data\n",
    ")\n",
    "\n",
    "Hashtag_df"
   ]
  },
  {
   "cell_type": "code",
   "execution_count": 10,
   "metadata": {},
   "outputs": [],
   "source": [
    "client = MongoClient('localhost', 27017)\n",
    "db1 = client['X']\n",
    "collection1 = db1['Tweets']\n",
    "collection2 = db1['Hashtags']"
   ]
  },
  {
   "cell_type": "code",
   "execution_count": 11,
   "metadata": {},
   "outputs": [
    {
     "data": {
      "text/plain": [
       "InsertManyResult([ObjectId('65f36d9f4689381d7524ead6'), ObjectId('65f36d9f4689381d7524ead7'), ObjectId('65f36d9f4689381d7524ead8'), ObjectId('65f36d9f4689381d7524ead9'), ObjectId('65f36d9f4689381d7524eada')], acknowledged=True)"
      ]
     },
     "execution_count": 11,
     "metadata": {},
     "output_type": "execute_result"
    }
   ],
   "source": [
    "records1 = Tweets_df.to_dict(orient = 'records')\n",
    "records2 = Hashtag_df.to_dict(orient = 'records')\n",
    "collection1.insert_many(records1)\n",
    "collection2.insert_many(records2)"
   ]
  }
 ],
 "metadata": {
  "kernelspec": {
   "display_name": "Scraper",
   "language": "python",
   "name": "python3"
  },
  "language_info": {
   "codemirror_mode": {
    "name": "ipython",
    "version": 3
   },
   "file_extension": ".py",
   "mimetype": "text/x-python",
   "name": "python",
   "nbconvert_exporter": "python",
   "pygments_lexer": "ipython3",
   "version": "3.12.2"
  }
 },
 "nbformat": 4,
 "nbformat_minor": 2
}
