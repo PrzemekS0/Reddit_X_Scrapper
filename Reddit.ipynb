{
 "cells": [
  {
   "cell_type": "code",
   "execution_count": 74,
   "metadata": {},
   "outputs": [],
   "source": [
    "import praw\n",
    "import json\n",
    "import pandas as pd\n",
    "from pymongo import MongoClient"
   ]
  },
  {
   "cell_type": "code",
   "execution_count": 75,
   "metadata": {},
   "outputs": [],
   "source": [
    "def create_reddit_object(json_file = \"reddit_config.json\"):\n",
    "\n",
    "    with open(json_file) as f:\n",
    "        data = json.load(f)\n",
    "\n",
    "\n",
    "    reddit = praw.Reddit(\n",
    "        user_agent = data['user_agent'],\n",
    "        client_id = data['client_id'],\n",
    "        client_secret = data['client_secret'],\n",
    "        username = data['username'],\n",
    "        password = data['password']\n",
    "    )\n",
    "    \n",
    "    return reddit\n",
    "\n",
    "reddit = create_reddit_object()"
   ]
  },
  {
   "cell_type": "code",
   "execution_count": 86,
   "metadata": {},
   "outputs": [],
   "source": [
    "name_of_subreddit = \"news\""
   ]
  },
  {
   "cell_type": "code",
   "execution_count": 87,
   "metadata": {},
   "outputs": [],
   "source": [
    "subred = reddit.subreddit(name_of_subreddit)"
   ]
  },
  {
   "cell_type": "code",
   "execution_count": 79,
   "metadata": {},
   "outputs": [
    {
     "name": "stdout",
     "output_type": "stream",
     "text": [
      "Dating apps in Poland. https://www.reddit.com/r/poland/comments/1beqzss/dating_apps_in_poland/ 7 Which dating apps do you recommend using in Poland?\n",
      "What 40PLN gets you in Poland https://www.reddit.com/gallery/1bellmi 91 \n",
      "Invoice for a UK Client https://www.reddit.com/r/poland/comments/1bekzmb/invoice_for_a_uk_client/ 4 I'm a programmer living in Poland. I did a project for a client from The Uk who has an LTD.   \n",
      "In Poland I pay a lump sum tax 12% (ryczałt). \n",
      "\n",
      "I need to create the invoice, but I'm not sure how to do it.  \n",
      "Should I add any VAT to the invoice for my UK client?  \n",
      "Should I write the amount in pounds?\n",
      "\n",
      "Another developer suggested me adding VAT 0% and write \"Reverse Charge.\"  \n",
      "I'm not sure about this since reverse charge is only for the EU.\n",
      "Will he attack Poland? 😔 https://www.reddit.com/r/poland/comments/1be3bvv/will_he_attack_poland/ 22 \n",
      "Site to sell clothes https://www.reddit.com/r/poland/comments/1bdrpg2/site_to_sell_clothes/ 6 I sell wholesale men's clothes. What is the best way to announce these goods in Poland? I normally post them to some groups on Facebook, but is there anything more well-known?\n",
      "High school syllabus question https://www.reddit.com/r/poland/comments/1bdq6tj/high_school_syllabus_question/ 0 Hey there, i don’t know if this is the right reddit to ask this but anyways. \n",
      "So im a south african student planning on studying medicine at the medical university of silesia and i have to write the entrance exam.\n",
      "\n",
      "The application site has a list of the syllabus but no recommended study content, i already have a bachelor of science so im familiar with the content but have no idea how much detail to study in. Apparently it’s based on the polish high school syllabus and im not sure how that compares to a university syllabus/intensity. \n",
      "\n",
      "If someone who did chemistry and biology in high school could help me out and tell me about the syllabus a bit, i would appreciate it! \n",
      "Pictures from Zawoja Poland, 1960s. https://www.reddit.com/gallery/1bdefz8 4 \n",
      "Żurek questions https://www.reddit.com/r/poland/comments/1bdb02t/żurek_questions/ 5 Hi guys! \n",
      "\n",
      "Recently I stumbled upon a Polish store here in Hungary and bought a few things linked below. (Not pictured a pack of meat stuffed pierogi that was unfortuately dissapointing as it had no flavor at all, but there are other brands so im not giving up on it, and some amazing mayo thats almost gone ((Kielecki)))\n",
      "\n",
      "My questions would be about the quality of these stuff as instant food goes, and how could I make them more amazing. I was in Poland back in 2017 and during my time there there was an event hosted by the fundation I was volunteering at and I had Żurek there. While it was not fancy made maybe even instant as it was meant to feed a lot of people and kids but it was still sooo good. Unfortunately I was living on ~600 złoty a month so I never had the chance to eat out properly. \n",
      "If I recall correctly it had boiled egg pieces, some kind of white kielbasa pieces and bread. I have not found those kind of sausages here but still looking. \n",
      "\n",
      "Is there anything else you would recommend I add to it? Vinegar, lemon juice maybe? Just to make it pop more. \n",
      "\n",
      "Also if there are good higher end brands you could recommend I try?\n",
      "\n",
      "Eventually I will make my own homemade Żurek but I have to figure out the rye fermenting.\n",
      "\n",
      "Basically its a PIMP my Żurek post.\n",
      "\n",
      "https://imgur.com/8HWmKU5\n",
      "\n",
      "https://imgur.com/cv2uDgZ\n",
      "\n",
      "https://imgur.com/YZf5ffz\n",
      "\n",
      "https://imgur.com/dVojRSD\n",
      "\n",
      "Dziękuję bardzo!\n",
      "[UPDATE] OMG - Why is it so HARD to book TRAINS? https://www.reddit.com/r/poland/comments/1bd09b4/update_omg_why_is_it_so_hard_to_book_trains/ 7 Thanks to everyone that helped! I managed to book a train this morning on  cd.cz  from Brno to Krakow (transferring in Břeclav) without too much pain. Despite the fact I just missed out on a $50 CAD savings when I was in the middle of picking seats, it all worked out. Can't wait!!!\n",
      "\n",
      "Edit to add: Just got the tix even cheaper! First class for 72 Euro for 2 of us. Happened to go back onto the site and noticed the First Minute Europe tix were available, so I snagged those & canceled the first ones. \n",
      "\n",
      "Original post: [https://www.reddit.com/r/poland/comments/1azasop/omg\\_why\\_is\\_it\\_so\\_hard\\_to\\_book\\_trains/](https://www.reddit.com/r/poland/comments/1azasop/omg_why_is_it_so_hard_to_book_trains/)\n",
      "Jarocin Festival 2024 https://www.reddit.com/r/poland/comments/1bco1x1/jarocin_festival_2024/ 6 Anyone here planning to go?\n",
      "\n",
      "Any foreigners who have visited the festival previously? What was your experience? Any tips for the festival-goer-to-be? :))\n",
      "\n",
      "I got my ticket and I am planning the trip now \\^\\^ I have not been to Poland before, but I love Polish rock music, and I seems that this is the good place to have it :))\n",
      "\n",
      "I love the music, and although I can translate the lyrics, I don't actually speak Polish at a decent level and don't expect to learn it properly by July. Will it be difficult for a foreigner to get around Jarocin town, that I understand it quite small, and the Jarocin festival?\n",
      "\n",
      "The big question is logistics. I had to book accommodation on the other side of Jarocin, as there has been absolutely no options for the last two months I've been checking. (Camping for a solo international traveller is not an option either...) And the festival will last until late at night, as usual... Is it considered safe getting home at night in a town like Jarocin? I hope I can get a taxi there. \n",
      "\n",
      "Also, my impression is that Jarocin festival is BIG - is it so nowadays? Should I expect the trains to/from Poznan to be packed with rock fans? In which case, I have to buy train tickets well in advance? \n",
      "Last name help? https://www.reddit.com/r/poland/comments/1bcm85h/last_name_help/ 3 My grandfathers father and siblings moved from south eastern Poland to Canada in 1929 their last name is Polachek which I think is supposed to be polaczek,, is it a polish name or a Czech name?\n",
      "Meats for a proper Bigos https://www.reddit.com/r/poland/comments/1bcl1ia/meats_for_a_proper_bigos/ 11 Hi there, American here(not claiming any heritage, I'm just an American). I saw a stew I'd like to try called bigos, and I was wondering if anyone here has made it before, if so can anyone let me know whether pork shoulder, and beef chuck would go well with it? I've been on a bit of a spree of cooking european dishes, and wanted to try something from Poland.\n",
      "\n",
      "Also if any of you could point out some other good SIMPLE dished to try from Poland, I'd be most obliged.\n",
      "\n",
      "Edit: forgot to ask, should I add broth for Bigos?\n",
      "I would like to rent a garage spot https://www.reddit.com/r/poland/comments/1bcjnjh/i_would_like_to_rent_a_garage_spot/ 2  Hello everyone. I'm interested in renting out a garage that I own and I plan to do so by creating a standard leasing contract. I would like to hear from anyone who has experience with this process. Specifically, I have a couple of questions:\n",
      "\n",
      "1. Should I register the contract at the tax office (urząd skarbowy)? If so, what is the timeframe for registering it after signing the contract with the tenant?\n",
      "2. Regarding tax payments, I believe it's around 8-8.5%. How does this work? Do I simply declare it when filling out my PIT (I work under UoP), or is the tax payment process linked to point 1)?\n",
      "\n",
      "Thank you in advance for any assistance you can provide. Any other advice is well welcome.\n",
      "PIT-2 tax relief  https://www.reddit.com/r/poland/comments/1bc5t22/pit2_tax_relief/ 5 I'm honestly lost in terms of how taxes work here and apparently my company isn't allowed to help me when it comes to accepting or denying certain tax options. I've never opted for the PIT-2 tax relief because honestly even after hours of research I don't understand who it's for. \n",
      "\n",
      "I have one job, no other income and am in my mid to late twenties. Should I ask for the PIT-2 relief on my salary? What does it even mean? \n",
      "Can I get a work permit on the basis of Umowa na Zlecenie? https://www.reddit.com/r/poland/comments/1bc5qw3/can_i_get_a_work_permit_on_the_basis_of_umowa_na/ 3 And therefore a Visa D on the basis of that work permit? Or does it need to be Umowa o prace?\n",
      "Can I get a work permit on the basis of Umowa na Zlecenie? https://www.reddit.com/r/poland/comments/1bc5qu9/can_i_get_a_work_permit_on_the_basis_of_umowa_na/ 2 And therefore a Visa D on the basis of that work permit? Or does it need to be Umowa o prace?\n",
      "Sending with InPost (First Time) https://www.reddit.com/r/poland/comments/1bc45kd/sending_with_inpost_first_time/ 3 Hello!  \n",
      "Does anyone have experience selling items on OLX/Vinted and shipping with InPost Lockers?  \n",
      "\n",
      "\n",
      "The buyer/recipient purchased an item from OLX and only shared their phone number. InPost shows me that an email address (recipient) is required but the buyer refuses to share an email address and that a phone number is enough.  \n",
      "\n",
      "\n",
      "Is it fine to use a random email address or should I be concerned that the buyer refuses to share an email address?  \n",
      "\n",
      "\n",
      "Thank you!\n",
      "Gluten Free products in Kielce  https://www.reddit.com/r/poland/comments/1bc2rv4/gluten_free_products_in_kielce/ 0 Hallo! Need help for an Erasmus student in Kielce. Supermarkets or shops with gluten free products? Any restaurants? Tks \n",
      "Pension investing  https://www.reddit.com/r/poland/comments/1bbyw30/pension_investing/ 10 Hi there, so my wife is getting her polish pension paid into her Inteligo account. Where is the best place to invest this money. Most of the banks have very low interest rates, yet if we bring the money to Australia we'll loose in the exchange rate, yet can get 8% on her retirement account.\n",
      "Are there any banks offering better interest rates than 0.5%?\n",
      "Spelling of name in Polish https://www.reddit.com/r/poland/comments/1bbl5hf/spelling_of_name_in_polish/ 38 I plan to get Polish citizenship, and would like to make my name sound better in Polish while still being readable in other languages. My name is Timothy, but since I am from Belarus my name is written as Tsimafei (originally Цiмафей). The closest analog of the name in Poland is Tymoteusz. But this variant is not readable in other languages. I work a lot with foreigners and it is important for me. I have seen many variations of the spelling: Timofei, Timofej, Tymofii, Tim, etc. Which variant besides Tymateusz would be more similar to Polish?\n",
      "Laws regarding dementia and memory care https://www.reddit.com/r/poland/comments/1bbg6vw/laws_regarding_dementia_and_memory_care/ 2 Hi all,\n",
      "\n",
      "Not sure if this is the right subreddit for this, but is anyone aware of the laws in Poland regarding memory care, and the legal process of putting a memory card patient into a facility, etc.? I have a relative who has obvious dementia, yet refuses all medications, threatens any strangers who come to the home (such as doctors, etc) and who is just overall progressively getting worse with time. My grandmother is exhausted living with him and taking care of him, and it’s only a matter of time before he does something, intentionally or not, to hurt himself or someone else. He has been formally diagnosed because he was prescribed medication that he is refusing. He is having issues with activities of daily living such as dressing and showering, cooking. Any help or advice is appreciated.\n",
      "Średnie wynagrodzenie w sektorze przedsiębiorstw - meaning? https://www.reddit.com/r/poland/comments/1bb8rip/średnie_wynagrodzenie_w_sektorze_przedsiębiorstw/ 3 What exactly does this mean when GUS statistics are being referenced? Is it the average personal income of people who own JDG companies, the average salary of those working for any incorporated/private company as opposed to the government? Something else?  \n",
      "Is it Yule or Jul? https://www.reddit.com/r/poland/comments/1bb88t2/is_it_yule_or_jul/ 8 Hi.\n",
      "\n",
      "I need this for a book I'm trying to write (in Polish).\n",
      "\n",
      "How does the Germanic winter festival Yule is called/written in Polish? Wikipedia says it's Jul, but the English form Yule seems to be more common and recogniseable.\n",
      "\n",
      "Which one should I choose?\n",
      "Best Kefir near Gdańsk? https://www.reddit.com/r/poland/comments/1bb5t5i/best_kefir_near_gdańsk/ 11 I recently started a long course of antibiotics and was recommended to buy some probiotic supplements, seems that's a very debated branch of science, whether or not these supplements actually work, so I was pretty happy to learn about Kefir as a cheaper and more effective option.  \n",
      "\n",
      "\n",
      "Until a week ago, I had no idea this stuff existed, and yet it's available in Lidl of all places?   \n",
      "\n",
      "\n",
      "Where do you Poles get your Kefir? \n",
      "Is my baby name a fine name for Poland? https://www.reddit.com/r/poland/comments/1baokqc/is_my_baby_name_a_fine_name_for_poland/ 83 I am a Brazilian living in Poland and I am 6 months pregnant with my second child. We plan on naming him Theodoro, can you guys tell me how that will be persieved in polish society? \n",
      "\n",
      "Is there a polish version of this name? If so, are there any known nicknames? Do you think normal people (like an old położona in przychodnia) will read it well? Any conserns we need to know before going forward with our choice?\n"
     ]
    }
   ],
   "source": [
    "# new = subred.new(limit = 30)\n",
    "\n",
    "# for i in new:\n",
    "#     try:\n",
    "#         content = reddit.submission(url = i.url)\n",
    "#         text = content.selftext\n",
    "#     except: \n",
    "#         continue\n",
    "#     print(i.title, i.url, len(i.comments), text)"
   ]
  },
  {
   "cell_type": "code",
   "execution_count": 90,
   "metadata": {},
   "outputs": [],
   "source": [
    "new = subred.hot(limit = 30)\n",
    "\n",
    "title = []\n",
    "content = []\n",
    "noc = []\n",
    "url = []\n",
    "\n",
    "for i in new:\n",
    "    try:    \n",
    "        text1 = reddit.submission(url = i.url)\n",
    "        text = text1.selftext\n",
    "    except:\n",
    "        continue\n",
    "    title.append(i.title)\n",
    "    content.append(text)\n",
    "    noc.append(len(i.comments))\n",
    "    url.append(i.url)\n",
    "\n",
    "data = {\n",
    "    \"Title\": title,\n",
    "    \"SubReddit\": content,\n",
    "    \"Number of comments\": noc,\n",
    "    \"URL\": url\n",
    "}\n",
    "\n",
    "df = pd.DataFrame(data)"
   ]
  },
  {
   "cell_type": "code",
   "execution_count": 91,
   "metadata": {},
   "outputs": [
    {
     "data": {
      "text/html": [
       "<div>\n",
       "<style scoped>\n",
       "    .dataframe tbody tr th:only-of-type {\n",
       "        vertical-align: middle;\n",
       "    }\n",
       "\n",
       "    .dataframe tbody tr th {\n",
       "        vertical-align: top;\n",
       "    }\n",
       "\n",
       "    .dataframe thead th {\n",
       "        text-align: right;\n",
       "    }\n",
       "</style>\n",
       "<table border=\"1\" class=\"dataframe\">\n",
       "  <thead>\n",
       "    <tr style=\"text-align: right;\">\n",
       "      <th></th>\n",
       "      <th>Title</th>\n",
       "      <th>SubReddit</th>\n",
       "      <th>Number of comments</th>\n",
       "      <th>URL</th>\n",
       "    </tr>\n",
       "  </thead>\n",
       "  <tbody>\n",
       "    <tr>\n",
       "      <th>0</th>\n",
       "      <td>Nex Benedict died by suicide, medical examiner...</td>\n",
       "      <td>[deleted]</td>\n",
       "      <td>65</td>\n",
       "      <td>https://abcnews.go.com/US/nex-benedict-died-su...</td>\n",
       "    </tr>\n",
       "    <tr>\n",
       "      <th>1</th>\n",
       "      <td>Dollar Tree and Family Dollar will close 1,000...</td>\n",
       "      <td>[deleted]</td>\n",
       "      <td>168</td>\n",
       "      <td>https://abcnews.go.com/Business/dollar-tree-fa...</td>\n",
       "    </tr>\n",
       "  </tbody>\n",
       "</table>\n",
       "</div>"
      ],
      "text/plain": [
       "                                               Title  SubReddit  \\\n",
       "0  Nex Benedict died by suicide, medical examiner...  [deleted]   \n",
       "1  Dollar Tree and Family Dollar will close 1,000...  [deleted]   \n",
       "\n",
       "   Number of comments                                                URL  \n",
       "0                  65  https://abcnews.go.com/US/nex-benedict-died-su...  \n",
       "1                 168  https://abcnews.go.com/Business/dollar-tree-fa...  "
      ]
     },
     "execution_count": 91,
     "metadata": {},
     "output_type": "execute_result"
    }
   ],
   "source": [
    "df"
   ]
  },
  {
   "cell_type": "code",
   "execution_count": 92,
   "metadata": {},
   "outputs": [],
   "source": [
    "client = MongoClient('localhost', 27017)\n",
    "db = client['Reddit']\n",
    "collection = db['SubReddits']"
   ]
  },
  {
   "cell_type": "code",
   "execution_count": 93,
   "metadata": {},
   "outputs": [
    {
     "data": {
      "text/plain": [
       "InsertManyResult([ObjectId('65f3628bb424873c5ea9e903'), ObjectId('65f3628bb424873c5ea9e904')], acknowledged=True)"
      ]
     },
     "execution_count": 93,
     "metadata": {},
     "output_type": "execute_result"
    }
   ],
   "source": [
    "records = df.to_dict(orient = 'records')\n",
    "collection.insert_many(records)"
   ]
  }
 ],
 "metadata": {
  "kernelspec": {
   "display_name": "Scraper",
   "language": "python",
   "name": "python3"
  },
  "language_info": {
   "codemirror_mode": {
    "name": "ipython",
    "version": 3
   },
   "file_extension": ".py",
   "mimetype": "text/x-python",
   "name": "python",
   "nbconvert_exporter": "python",
   "pygments_lexer": "ipython3",
   "version": "3.12.2"
  }
 },
 "nbformat": 4,
 "nbformat_minor": 2
}
