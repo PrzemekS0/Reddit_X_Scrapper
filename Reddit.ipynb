{
 "cells": [
  {
   "cell_type": "code",
   "execution_count": 1,
   "metadata": {},
   "outputs": [],
   "source": [
    "import praw\n",
    "import json\n",
    "import pandas as pd\n",
    "from pymongo import MongoClient"
   ]
  },
  {
   "cell_type": "code",
   "execution_count": 2,
   "metadata": {},
   "outputs": [],
   "source": [
    "def create_reddit_object(json_file = \"reddit_config.json\"):\n",
    "\n",
    "    with open(json_file) as f:\n",
    "        data = json.load(f)\n",
    "\n",
    "\n",
    "    reddit = praw.Reddit(\n",
    "        user_agent = data['user_agent'],\n",
    "        client_id = data['client_id'],\n",
    "        client_secret = data['client_secret'],\n",
    "        username = data['username'],\n",
    "        password = data['password']\n",
    "    )\n",
    "    \n",
    "    return reddit\n",
    "\n",
    "reddit = create_reddit_object()"
   ]
  },
  {
   "cell_type": "code",
   "execution_count": 3,
   "metadata": {},
   "outputs": [],
   "source": [
    "name_of_subreddit = \"news\""
   ]
  },
  {
   "cell_type": "code",
   "execution_count": 4,
   "metadata": {},
   "outputs": [],
   "source": [
    "subred = reddit.subreddit(name_of_subreddit)"
   ]
  },
  {
   "cell_type": "code",
   "execution_count": 5,
   "metadata": {},
   "outputs": [],
   "source": [
    "new = subred.hot(limit = 30) # liczba subredditów jakie chcemy zescrapować"
   ]
  },
  {
   "cell_type": "markdown",
   "metadata": {},
   "source": [
    "Poniżej możemy sprawdzić jakie jeszcze informacje można wyciągnąć z zescrapowanych danych."
   ]
  },
  {
   "cell_type": "code",
   "execution_count": null,
   "metadata": {},
   "outputs": [],
   "source": [
    "x = next(new)\n",
    "print(dir(x))"
   ]
  },
  {
   "cell_type": "markdown",
   "metadata": {},
   "source": [
    "Poniższa komórka pozwala na sprawdzenie \"na żywo\" co znajduje się w wybranych danych."
   ]
  },
  {
   "cell_type": "code",
   "execution_count": null,
   "metadata": {},
   "outputs": [],
   "source": [
    "for i in new:\n",
    "    try:\n",
    "        content = reddit.submission(url = i.url)\n",
    "        text = content.selftext\n",
    "    except: \n",
    "        continue\n",
    "    print(i.title, i.url, len(i.comments), text)"
   ]
  },
  {
   "cell_type": "code",
   "execution_count": 90,
   "metadata": {},
   "outputs": [],
   "source": [
    "new = subred.hot(limit = 30)\n",
    "\n",
    "title = []\n",
    "content = []\n",
    "noc = []\n",
    "url = []\n",
    "\n",
    "for i in new:\n",
    "    try:    \n",
    "        text1 = reddit.submission(url = i.url)\n",
    "        text = text1.selftext\n",
    "    except:\n",
    "        continue\n",
    "    title.append(i.title)\n",
    "    content.append(text)\n",
    "    noc.append(len(i.comments))\n",
    "    url.append(i.url)\n",
    "\n",
    "data = {\n",
    "    \"Title\": title,\n",
    "    \"SubReddit\": content,\n",
    "    \"Number of comments\": noc,\n",
    "    \"URL\": url\n",
    "}\n",
    "\n",
    "df = pd.DataFrame(data)"
   ]
  },
  {
   "cell_type": "code",
   "execution_count": null,
   "metadata": {},
   "outputs": [],
   "source": [
    "df"
   ]
  },
  {
   "cell_type": "code",
   "execution_count": 92,
   "metadata": {},
   "outputs": [],
   "source": [
    "client = MongoClient('localhost', 27017)\n",
    "db = client['Reddit']\n",
    "collection = db['SubReddits']"
   ]
  },
  {
   "cell_type": "code",
   "execution_count": 93,
   "metadata": {},
   "outputs": [
    {
     "data": {
      "text/plain": [
       "InsertManyResult([ObjectId('65f3628bb424873c5ea9e903'), ObjectId('65f3628bb424873c5ea9e904')], acknowledged=True)"
      ]
     },
     "execution_count": 93,
     "metadata": {},
     "output_type": "execute_result"
    }
   ],
   "source": [
    "records = df.to_dict(orient = 'records')\n",
    "collection.insert_many(records)"
   ]
  }
 ],
 "metadata": {
  "kernelspec": {
   "display_name": "Scraper",
   "language": "python",
   "name": "python3"
  },
  "language_info": {
   "codemirror_mode": {
    "name": "ipython",
    "version": 3
   },
   "file_extension": ".py",
   "mimetype": "text/x-python",
   "name": "python",
   "nbconvert_exporter": "python",
   "pygments_lexer": "ipython3",
   "version": "3.12.2"
  }
 },
 "nbformat": 4,
 "nbformat_minor": 2
}
